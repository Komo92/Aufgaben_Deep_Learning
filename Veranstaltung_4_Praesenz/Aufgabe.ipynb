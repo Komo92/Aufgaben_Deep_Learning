{
 "cells": [
  {
   "cell_type": "markdown",
   "id": "45269950-addf-4876-9a79-732692cb9201",
   "metadata": {},
   "source": [
    "# Reinforcement Learning\n",
    "\n",
    "Entwickeln Sie einen Deep Q-Network (DQN) Agent für eine [Gymnasium](https://gymnasium.farama.org/) (ehemals OpenAI Gym) Umgebung Ihrer Wahl. Falls Sie einen Ansatz benötigen, finden sich sehr gute Tutorials für DQNs in der Pytorch Dokumentation. In der vorgegebenen Zelle wird das [Cart Pole](https://gymnasium.farama.org/environments/classic_control/cart_pole/) Beispiel der Classic Control Umgebungen verwendet. Dies können Sie gerne nutzen oder durch ein anderes Beispiel austauschen. Möchten Sie Beispiele aus anderen Umgebungen außer Classic Control verwenden, müssen Sie diese über Pip dazuinstallieren."
   ]
  },
  {
   "cell_type": "code",
   "execution_count": 9,
   "id": "c2360474-c0d5-4587-a943-7de9eead1a0b",
   "metadata": {},
   "outputs": [
    {
     "name": "stdout",
     "output_type": "stream",
     "text": [
      "Requirement already satisfied: gymnasium in /opt/conda/lib/python3.10/site-packages (0.26.3)\n",
      "Requirement already satisfied: numpy>=1.18.0 in /opt/conda/lib/python3.10/site-packages (from gymnasium) (1.22.4)\n",
      "Requirement already satisfied: gymnasium-notices>=0.0.1 in /opt/conda/lib/python3.10/site-packages (from gymnasium) (0.0.1)\n",
      "Requirement already satisfied: cloudpickle>=1.2.0 in /opt/conda/lib/python3.10/site-packages (from gymnasium) (2.2.0)\n",
      "Requirement already satisfied: gymnasium[classic_control] in /opt/conda/lib/python3.10/site-packages (0.26.3)\n",
      "Requirement already satisfied: numpy>=1.18.0 in /opt/conda/lib/python3.10/site-packages (from gymnasium[classic_control]) (1.22.4)\n",
      "Requirement already satisfied: gymnasium-notices>=0.0.1 in /opt/conda/lib/python3.10/site-packages (from gymnasium[classic_control]) (0.0.1)\n",
      "Requirement already satisfied: cloudpickle>=1.2.0 in /opt/conda/lib/python3.10/site-packages (from gymnasium[classic_control]) (2.2.0)\n",
      "Collecting pygame==2.1.0\n",
      "  Using cached pygame-2.1.0-cp310-cp310-manylinux_2_17_x86_64.manylinux2014_x86_64.whl (18.3 MB)\n",
      "Installing collected packages: pygame\n",
      "Successfully installed pygame-2.1.0\n"
     ]
    }
   ],
   "source": [
    "!pip install gymnasium\n",
    "!pip install gymnasium[classic_control]"
   ]
  },
  {
   "cell_type": "code",
   "execution_count": 8,
   "id": "ff984042-bc8d-4188-af2b-b17b4219a92d",
   "metadata": {},
   "outputs": [],
   "source": [
    "import gymnasium as gym\n",
    "import math\n",
    "import random\n",
    "import numpy as np\n",
    "import matplotlib\n",
    "import matplotlib.pyplot as plt\n",
    "from collections import namedtuple, deque\n",
    "from itertools import count\n",
    "from PIL import Image\n",
    "\n",
    "%matplotlib inline\n",
    "\n",
    "import torch\n",
    "import torch.nn as nn\n",
    "import torch.optim as optim\n",
    "import torch.nn.functional as F\n",
    "import torchvision.transforms as T\n",
    "\n",
    "\n",
    "if gym.__version__ < '0.26':\n",
    "    env = gym.make('CartPole-v0', new_step_api=True, render_mode='single_rgb_array').unwrapped\n",
    "else:\n",
    "    env = gym.make('CartPole-v0', render_mode='rgb_array').unwrapped\n",
    "\n",
    "# set up matplotlib\n",
    "is_ipython = 'inline' in matplotlib.get_backend()\n",
    "if is_ipython:\n",
    "    from IPython import display\n",
    "\n",
    "plt.ion()\n",
    "\n",
    "# if gpu is to be used\n",
    "device = torch.device(\"cuda\" if torch.cuda.is_available() else \"cpu\")"
   ]
  },
  {
   "cell_type": "code",
   "execution_count": null,
   "id": "ec6cab0a-6658-41ed-92d1-f535a5ff07ee",
   "metadata": {},
   "outputs": [],
   "source": []
  }
 ],
 "metadata": {
  "kernelspec": {
   "display_name": "Python 3 (ipykernel)",
   "language": "python",
   "name": "python3"
  },
  "language_info": {
   "codemirror_mode": {
    "name": "ipython",
    "version": 3
   },
   "file_extension": ".py",
   "mimetype": "text/x-python",
   "name": "python",
   "nbconvert_exporter": "python",
   "pygments_lexer": "ipython3",
   "version": "3.10.6"
  }
 },
 "nbformat": 4,
 "nbformat_minor": 5
}
